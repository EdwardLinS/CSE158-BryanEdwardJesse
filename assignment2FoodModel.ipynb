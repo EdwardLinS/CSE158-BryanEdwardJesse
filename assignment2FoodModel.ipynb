{
 "cells": [
  {
   "cell_type": "code",
   "execution_count": 1,
   "metadata": {},
   "outputs": [],
   "source": [
    "import gzip\n",
    "from collections import defaultdict\n",
    "import math\n",
    "import scipy.optimize\n",
    "from sklearn import svm\n",
    "import numpy as np\n",
    "import random\n",
    "import string\n",
    "from sklearn import linear_model\n",
    "import pandas as pd\n",
    "import matplotlib.pyplot as plt\n",
    "import seaborn as sns\n",
    "import csv"
   ]
  },
  {
   "cell_type": "code",
   "execution_count": 2,
   "metadata": {},
   "outputs": [],
   "source": [
    "# Import nltk package \n",
    "import nltk\n",
    "from nltk.tokenize import word_tokenize\n",
    "from nltk.corpus import stopwords\n",
    "\n",
    "import re\n",
    "import spacy\n",
    "\n",
    "from sklearn.feature_extraction.text import TfidfVectorizer"
   ]
  },
  {
   "cell_type": "code",
   "execution_count": 3,
   "metadata": {},
   "outputs": [
    {
     "name": "stderr",
     "output_type": "stream",
     "text": [
      "[nltk_data] Downloading package punkt to\n",
      "[nltk_data]     C:\\Users\\bblu2\\AppData\\Roaming\\nltk_data...\n",
      "[nltk_data]   Package punkt is already up-to-date!\n",
      "[nltk_data] Downloading package punkt_tab to\n",
      "[nltk_data]     C:\\Users\\bblu2\\AppData\\Roaming\\nltk_data...\n",
      "[nltk_data]   Package punkt_tab is already up-to-date!\n",
      "[nltk_data] Downloading package stopwords to\n",
      "[nltk_data]     C:\\Users\\bblu2\\AppData\\Roaming\\nltk_data...\n",
      "[nltk_data]   Package stopwords is already up-to-date!\n"
     ]
    },
    {
     "data": {
      "text/plain": [
       "True"
      ]
     },
     "execution_count": 3,
     "metadata": {},
     "output_type": "execute_result"
    }
   ],
   "source": [
    "nltk.download('punkt')\n",
    "nltk.download('punkt_tab')\n",
    "nltk.download('stopwords')"
   ]
  },
  {
   "cell_type": "code",
   "execution_count": 4,
   "metadata": {},
   "outputs": [],
   "source": [
    "import warnings\n",
    "warnings.filterwarnings(\"ignore\")"
   ]
  },
  {
   "cell_type": "code",
   "execution_count": 5,
   "metadata": {},
   "outputs": [],
   "source": [
    "# import the datasets\n",
    "dfRecipes = pd.read_csv(\"RAW_recipes.csv\")"
   ]
  },
  {
   "cell_type": "code",
   "execution_count": 6,
   "metadata": {},
   "outputs": [],
   "source": [
    "# correcting data types\n",
    "dfRecipes['submitted'] = pd.to_datetime(dfRecipes.submitted)\n",
    "dfRecipes['n_steps'] = dfRecipes.n_steps.astype('int')\n",
    "\n",
    "# dropping columns with nan values in description and name\n",
    "dfRecipes.dropna(axis=0, inplace=True)\n",
    "\n",
    "# dropping an outlier\n",
    "dfRecipes = dfRecipes[dfRecipes.minutes < max(dfRecipes.minutes)]"
   ]
  },
  {
   "cell_type": "code",
   "execution_count": 7,
   "metadata": {},
   "outputs": [],
   "source": [
    "dfRecipesNew = dfRecipes[['name', 'id', 'description', 'ingredients']]"
   ]
  },
  {
   "cell_type": "code",
   "execution_count": 8,
   "metadata": {},
   "outputs": [],
   "source": [
    "df = dfRecipesNew"
   ]
  },
  {
   "cell_type": "code",
   "execution_count": 9,
   "metadata": {},
   "outputs": [
    {
     "data": {
      "text/plain": [
       "name                  arriba   baked winter squash mexican style\n",
       "id                                                        137739\n",
       "description    autumn is my favorite time of year to cook! th...\n",
       "ingredients    ['winter squash', 'mexican seasoning', 'mixed ...\n",
       "Name: 0, dtype: object"
      ]
     },
     "execution_count": 9,
     "metadata": {},
     "output_type": "execute_result"
    }
   ],
   "source": [
    "df.iloc[0]"
   ]
  },
  {
   "cell_type": "code",
   "execution_count": 10,
   "metadata": {},
   "outputs": [],
   "source": [
    "stop_words = set(stopwords.words('english'))\n",
    "nlp = spacy.load(\"en_core_web_sm\")\n",
    "\n",
    "def preprocess(string): \n",
    "    string = string.replace('\\n', ' ')\n",
    "    string = re.sub(r'[^\\w\\s]|_', ' ', string)\n",
    "    string = re.sub(r'\\s+', ' ', string).lower().strip()\n",
    "\n",
    "    string = word_tokenize(string)\n",
    "    string = [word for word in string if word.lower() not in stop_words]\n",
    "    \n",
    "    return string"
   ]
  },
  {
   "cell_type": "code",
   "execution_count": 11,
   "metadata": {},
   "outputs": [],
   "source": [
    "def preprocesslist(string): \n",
    "    string = string.replace(\"'\", '')\n",
    "    string = string.replace(\"[\", '')\n",
    "    string = string.replace(\"]\", '')\n",
    "    string = string.replace(\",\", '')\n",
    "\n",
    "    string = word_tokenize(string)\n",
    "    \n",
    "    return string"
   ]
  },
  {
   "cell_type": "code",
   "execution_count": 12,
   "metadata": {},
   "outputs": [],
   "source": [
    "df['description'] = df.description.transform(preprocess)\n",
    "df['ingredients'] = df.ingredients.transform(preprocesslist)"
   ]
  },
  {
   "cell_type": "code",
   "execution_count": 13,
   "metadata": {},
   "outputs": [
    {
     "data": {
      "text/plain": [
       "name                  arriba   baked winter squash mexican style\n",
       "id                                                        137739\n",
       "description    [autumn, favorite, time, year, cook, recipe, p...\n",
       "ingredients    [winter, squash, mexican, seasoning, mixed, sp...\n",
       "Name: 0, dtype: object"
      ]
     },
     "execution_count": 13,
     "metadata": {},
     "output_type": "execute_result"
    }
   ],
   "source": [
    "df.iloc[0]"
   ]
  },
  {
   "cell_type": "code",
   "execution_count": 36,
   "metadata": {},
   "outputs": [],
   "source": [
    "description_word_count = defaultdict(int)\n",
    "for i,r in df.iterrows():\n",
    "    for w in r['description']:\n",
    "        description_word_count[w] += 1"
   ]
  },
  {
   "cell_type": "code",
   "execution_count": 38,
   "metadata": {},
   "outputs": [
    {
     "data": {
      "text/plain": [
       "69061"
      ]
     },
     "execution_count": 38,
     "metadata": {},
     "output_type": "execute_result"
    }
   ],
   "source": [
    "len(description_word_count)"
   ]
  },
  {
   "cell_type": "code",
   "execution_count": 14,
   "metadata": {},
   "outputs": [
    {
     "data": {
      "image/png": "[encoded data removed]",
      "text/plain": [
       "<Figure size 640x480 with 1 Axes>"
      ]
     },
     "metadata": {},
     "output_type": "display_data"
    }
   ],
   "source": [
    "df['Description_Length'] = df['description'].str.len()\n",
    "\n",
    "sns.histplot(data=df, x='Description_Length', bins=10, kde=True, color='skyblue')\n",
    "plt.title('Distribution of Description Lengths')\n",
    "plt.xlabel('Description Length')\n",
    "plt.ylabel('Frequency')\n",
    "plt.show()"
   ]
  },
  {
   "cell_type": "code",
   "execution_count": 15,
   "metadata": {},
   "outputs": [
    {
     "data": {
      "text/plain": [
       "count    226656.000000\n",
       "mean         19.724013\n",
       "std          17.051615\n",
       "min           0.000000\n",
       "25%           8.000000\n",
       "50%          15.000000\n",
       "75%          26.000000\n",
       "max         574.000000\n",
       "Name: Description_Length, dtype: float64"
      ]
     },
     "execution_count": 15,
     "metadata": {},
     "output_type": "execute_result"
    }
   ],
   "source": [
    "df['Description_Length'].describe()"
   ]
  },
  {
   "cell_type": "code",
   "execution_count": 16,
   "metadata": {},
   "outputs": [
    {
     "data": {
      "image/png": "[encoded data removed]",
      "text/plain": [
       "<Figure size 640x480 with 1 Axes>"
      ]
     },
     "metadata": {},
     "output_type": "display_data"
    }
   ],
   "source": [
    "df['Ingredient_Length'] = df['ingredients'].apply(len)\n",
    "\n",
    "sns.histplot(data=df, x='Ingredient_Length', bins=5, kde=True, color='skyblue')\n",
    "plt.title('Distribution of Ingredient List Lengths')\n",
    "plt.xlabel('Number of Ingredients')\n",
    "plt.ylabel('Frequency')\n",
    "plt.show()"
   ]
  },
  {
   "cell_type": "code",
   "execution_count": 17,
   "metadata": {},
   "outputs": [],
   "source": [
    "flavor_map = {\n",
    "    \"Malty\": [\"pork\", \"chicken\", \"sausage\", \"beet\", \"carrot\", \"caramel\", \"honey\", \"syrup\", \"brown sugar\", \"raisin\", \"date\", \"nutmeg\", \"cinnamon\", \"allspice\", \"gouda\", \"swiss\", \"mild\", \"cheddar\"],\n",
    "    \"Hoppy\": [\"beef\", \"lamb\", \"sausage\", \"arugula\", \"endive\", \"lime\", \"lemon\", \"zest\", \"chili\", \"pepper\", \"jalapeno\", \"coriander\", \"parsley\", \"blue\", \"sharp\", \"cheddar\", \"parmesan\"],\n",
    "    \"Crisp\": [\"shrimp\", \"fish\", \"oyster\", \"lobster\", \"clam\", \"lettuce\", \"vinaigrette\", \"grill\", \"chicken\", \"cucumber\", \"lime\", \"avocado\", \"mint\", \"dill\", \"pretzel\", \"cracker\", \"popcorn\", \"brie\", \"mozarella\", \"ricotta\"],\n",
    "    \"Roasty\": [\"smoke\", \"brisket\", \"roast\", \"beef\", \"mushroom\", \"bbq\", \"dark\", \"chocolate\", \"coffee\", \"molasses\", \"toast\", \"nut\", \"pecan\", \"hazelnut\", \"clove\", \"star\", \"anise\", \"cardamom\", \"cheddar\", \"age\", \"gruyere\"],\n",
    "    \"Fruity/Spicy\": [\"roast\", \"chicken\", \"salmon\", \"scallops\", \"pasta\", \"sphagetti\", \"fettucine\", \"orange\", \"lemon\", \"berry\", \"berries\", \"raspeberries\", \"raspberry\", \"blackberry\", \"blackberries\", \"ginger\", \"basil\", \"thyme\", \"cinnamon\", \"feta\", \"goat\", \"cheese\"],\n",
    "    \"Sour\": [\"salami\", \"prosciutto\", \"shellfish\", \"clam\", \"oyster\", \"tart\", \"cranberry\", \"cranberries\", \"cherry\", \"cherries\", \"passionfruit\", \"nut\", \"pickle\", \"olive\", \"chevre\", \"feta\"],\n",
    "    \"Rich/Hearty\": [\"duck\", \"short\", \"rib\" \"lamb\", \"roast\", \"vegetable\", \"butternut\", \"squash\", \"carrot\", \"caramel\", \"toffee\", \"fig\", \"prune\", \"rosemary\", \"sage\", \"bay\", \"leaf\", \"stilton\", \"age\", \"cheddar\", \"camembert\"],\n",
    "    \"Smoky\": [\"smoke\", \"smoked\", \"salmon\", \"charred\", \"char\" \"vegetables\", \"eggplant\", \"bacon\", \"bell\", \"peppers\", \"bbq\", \"paprika\", \"chipotle\", \"thyme\", \"toast\", \"almonds\", \"peanuts\", \"gouda\", \"manchego\"],\n",
    "    \"Specialty\": [\"turkey\", \"holiday\", \"fall\", \"winter\", \"ham\", \"squash\", \"spice\", \"pumpkin\", \"cranberry\", \"cranberries\", \"chocolate\", \"coffee\", \"cinnamon\", \"nutmeg\", \"clove\", \"vanilla\", \"cream\", \"cheese\", \"dessert\", \"havarti\"]\n",
    "}"
   ]
  },
  {
   "cell_type": "code",
   "execution_count": 18,
   "metadata": {},
   "outputs": [],
   "source": [
    "def labelrecipe(row):\n",
    "    flavor_count = {flavor: 0 for flavor in flavor_map.keys()}\n",
    "    ingredients = row['ingredients']\n",
    "    description = row['description']\n",
    "    for word in ingredients:\n",
    "        for flavor, thing in flavor_map.items():\n",
    "            if word.lower() in thing:\n",
    "                flavor_count[flavor] += 1\n",
    "    for word in description:\n",
    "        for flavor, thing in flavor_map.items():\n",
    "            if word.lower() in thing:\n",
    "                flavor_count[flavor] += 1\n",
    "\n",
    "    return max(flavor_count, key=flavor_count.get)"
   ]
  },
  {
   "cell_type": "code",
   "execution_count": 19,
   "metadata": {},
   "outputs": [],
   "source": [
    "df['Flavor'] = df.apply(labelrecipe, axis=1)"
   ]
  },
  {
   "cell_type": "code",
   "execution_count": 20,
   "metadata": {},
   "outputs": [
    {
     "data": {
      "text/plain": [
       "Flavor\n",
       "Hoppy           70964\n",
       "Specialty       45790\n",
       "Malty           42705\n",
       "Fruity/Spicy    34056\n",
       "Crisp            9579\n",
       "Roasty           9567\n",
       "Smoky            5076\n",
       "Rich/Hearty      4912\n",
       "Sour             4007\n",
       "Name: count, dtype: int64"
      ]
     },
     "execution_count": 20,
     "metadata": {},
     "output_type": "execute_result"
    }
   ],
   "source": [
    "df['Flavor'].value_counts()"
   ]
  },
  {
   "cell_type": "code",
   "execution_count": 21,
   "metadata": {},
   "outputs": [
    {
     "data": {
      "image/png": "[encoded data removed]",
      "text/plain": [
       "<Figure size 640x480 with 1 Axes>"
      ]
     },
     "metadata": {},
     "output_type": "display_data"
    }
   ],
   "source": [
    "sns.countplot(data=df, x='Flavor', palette='pastel')\n",
    "plt.title('Flavor Distribution')\n",
    "plt.xlabel('Flavor')\n",
    "plt.ylabel('Count')\n",
    "plt.xticks(rotation=45)\n",
    "plt.show()"
   ]
  },
  {
   "cell_type": "code",
   "execution_count": 22,
   "metadata": {},
   "outputs": [
    {
     "data": {
      "text/plain": [
       "name                         arriba   baked winter squash mexican style\n",
       "id                                                               137739\n",
       "description           [autumn, favorite, time, year, cook, recipe, p...\n",
       "ingredients           [winter, squash, mexican, seasoning, mixed, sp...\n",
       "Description_Length                                                   20\n",
       "Ingredient_Length                                                    11\n",
       "Flavor                                                        Specialty\n",
       "Name: 0, dtype: object"
      ]
     },
     "execution_count": 22,
     "metadata": {},
     "output_type": "execute_result"
    }
   ],
   "source": [
    "df.iloc[0]"
   ]
  },
  {
   "cell_type": "code",
   "execution_count": 23,
   "metadata": {},
   "outputs": [],
   "source": [
    "shuffled_df = df.sample(frac=1).reset_index(drop=True)"
   ]
  },
  {
   "cell_type": "code",
   "execution_count": 24,
   "metadata": {},
   "outputs": [
    {
     "data": {
      "text/plain": [
       "(158659, 67997)"
      ]
     },
     "execution_count": 24,
     "metadata": {},
     "output_type": "execute_result"
    }
   ],
   "source": [
    "splitRatio = 0.70\n",
    "splitIndex = int(len(df) * splitRatio)\n",
    "reviewTrain = shuffled_df.iloc[:splitIndex]\n",
    "reviewTest = shuffled_df.iloc[splitIndex:]\n",
    "\n",
    "reviewTrain.reset_index()\n",
    "reviewTest.reset_index()\n",
    "\n",
    "len(reviewTrain), len(reviewTest)"
   ]
  },
  {
   "cell_type": "code",
   "execution_count": 25,
   "metadata": {},
   "outputs": [],
   "source": [
    "wordCount = defaultdict(int)\n",
    "for i, recipe in reviewTrain.iterrows():\n",
    "    for w in recipe['ingredients']:\n",
    "        wordCount[w] += 1\n",
    "    for w in recipe['description']:\n",
    "        wordCount[w] += 1\n",
    "    #for w in recipe['tags']:\n",
    "    #    wordCount[w] += 1\n",
    "\n",
    "counts = [(wordCount[w], w) for w in wordCount]\n",
    "counts.sort()\n",
    "counts.reverse()"
   ]
  },
  {
   "cell_type": "code",
   "execution_count": 26,
   "metadata": {},
   "outputs": [],
   "source": [
    "words = [x[1] for x in counts[:1000]]"
   ]
  },
  {
   "cell_type": "code",
   "execution_count": 27,
   "metadata": {},
   "outputs": [],
   "source": [
    "wordId = dict(zip(words, range(len(words))))\n",
    "wordSet = set(words)\n",
    "\n",
    "def feature(datum):\n",
    "    feat = [0]*len(words)\n",
    "    for w in datum['ingredients']:\n",
    "        if w in words:\n",
    "            feat[wordId[w]] += 1\n",
    "    for w in datum['description']:\n",
    "        if w in words:\n",
    "            feat[wordId[w]] += 1\n",
    "    feat.append(1) # offset\n",
    "    return feat"
   ]
  },
  {
   "cell_type": "code",
   "execution_count": 28,
   "metadata": {},
   "outputs": [],
   "source": [
    "X = [feature(d) for i,d in reviewTrain.iterrows()]\n",
    "y = [d for d in reviewTrain['Flavor'].values]"
   ]
  },
  {
   "cell_type": "code",
   "execution_count": 29,
   "metadata": {},
   "outputs": [],
   "source": [
    "modFoodLabel = linear_model.LogisticRegression(C=1)\n",
    "modFoodLabel.fit(X, y)\n",
    "theta = modFoodLabel.coef_\n",
    "predictions = modFoodLabel.predict(X)"
   ]
  },
  {
   "cell_type": "code",
   "execution_count": 30,
   "metadata": {},
   "outputs": [
    {
     "data": {
      "text/plain": [
       "0.9804045153442288"
      ]
     },
     "execution_count": 30,
     "metadata": {},
     "output_type": "execute_result"
    }
   ],
   "source": [
    "correct = [p == l for p,l in zip(predictions, reviewTrain['Flavor'].values)]\n",
    "sum(correct) / len(correct)"
   ]
  },
  {
   "cell_type": "code",
   "execution_count": 31,
   "metadata": {},
   "outputs": [],
   "source": [
    "Xtest = [feature(d) for i, d in reviewTest.iterrows()]\n",
    "ytest = [d['Flavor'] for i, d in reviewTest.iterrows()]"
   ]
  },
  {
   "cell_type": "code",
   "execution_count": 32,
   "metadata": {},
   "outputs": [],
   "source": [
    "testPredictions = modFoodLabel.predict(Xtest)"
   ]
  },
  {
   "cell_type": "code",
   "execution_count": 33,
   "metadata": {},
   "outputs": [
    {
     "data": {
      "text/plain": [
       "0.9727046781475653"
      ]
     },
     "execution_count": 33,
     "metadata": {},
     "output_type": "execute_result"
    }
   ],
   "source": [
    "correct = [p == l for p,l in zip(testPredictions, reviewTest['Flavor'].values)]\n",
    "sum(correct) / len(correct)"
   ]
  },
  {
   "cell_type": "code",
   "execution_count": 34,
   "metadata": {},
   "outputs": [],
   "source": [
    "predicts = [(food,str(predict)) for food, predict in zip(reviewTest['name'].values, testPredictions)]\n"
   ]
  },
  {
   "cell_type": "code",
   "execution_count": 35,
   "metadata": {},
   "outputs": [],
   "source": [
    "with open('foodFlavorPredict.csv', 'w', newline='') as file:\n",
    "    writer = csv.writer(file)\n",
    "    for item in predicts:\n",
    "        writer.writerow([item])"
   ]
  },
  {
   "cell_type": "code",
   "execution_count": null,
   "metadata": {},
   "outputs": [],
   "source": []
  }
 ],
 "metadata": {
  "kernelspec": {
   "display_name": "Python 3",
   "language": "python",
   "name": "python3"
  },
  "language_info": {
   "codemirror_mode": {
    "name": "ipython",
    "version": 3
   },
   "file_extension": ".py",
   "mimetype": "text/x-python",
   "name": "python",
   "nbconvert_exporter": "python",
   "pygments_lexer": "ipython3",
   "version": "3.11.9"
  }
 },
 "nbformat": 4,
 "nbformat_minor": 2
}
