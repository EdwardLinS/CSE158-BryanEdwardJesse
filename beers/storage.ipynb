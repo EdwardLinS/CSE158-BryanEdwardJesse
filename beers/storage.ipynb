{
 "cells": [
  {
   "cell_type": "code",
   "execution_count": null,
   "metadata": {},
   "outputs": [],
   "source": [
    "# Changes the string rating (X/Y) to decimal\n",
    "def scoreToInt(score: string) -> float:\n",
    "    numer, denom = score.split('/')\n",
    "    return int(numer) / int(denom)"
   ]
  },
  {
   "cell_type": "code",
   "execution_count": null,
   "metadata": {},
   "outputs": [],
   "source": [
    "# Change all ratings to have numerical scores\n",
    "scoreNames = ['review/appearance', 'review/aroma', 'review/palate', 'review/taste',  'review/overall']\n",
    "\n",
    "for rating in rawRatings:\n",
    "    for name in scoreNames:\n",
    "        rating[name + '_numerical'] = scoreToInt(rating[name])"
   ]
  },
  {
   "cell_type": "code",
   "execution_count": null,
   "metadata": {},
   "outputs": [],
   "source": [
    "def checkMissingFeatures(rating):\n",
    "    return (\n",
    "        rating['beer/name'] == \"\" or \n",
    "        rating['beer/ABV'] == \"\" or rating['beer/ABV'] == \"-\" or  # the - case is for some reason in our data\n",
    "        rating['review/text'] == \"\"\n",
    "    )\n",
    "    \n",
    "cleanedRatings = []\n",
    "\n",
    "for rating in rawRatings:\n",
    "    if not checkMissingFeatures(rating):\n",
    "        rating['beer/flavor'] = findFlavor(rating['beer/style'])\n",
    "        cleanedRatings.append(rating)"
   ]
  }
 ],
 "metadata": {
  "language_info": {
   "name": "python"
  }
 },
 "nbformat": 4,
 "nbformat_minor": 2
}
