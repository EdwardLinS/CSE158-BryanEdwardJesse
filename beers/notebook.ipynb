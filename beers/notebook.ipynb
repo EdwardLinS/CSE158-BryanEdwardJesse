{
 "cells": [
  {
   "cell_type": "code",
   "execution_count": 1,
   "metadata": {},
   "outputs": [],
   "source": [
    "import gzip\n",
    "import math\n",
    "import numpy\n",
    "import random\n",
    "import sklearn\n",
    "import string\n",
    "from collections import defaultdict\n",
    "from nltk.stem.porter import *\n",
    "from sklearn import linear_model\n",
    "from gensim.models import Word2Vec\n",
    "import dateutil\n",
    "from scipy.sparse import lil_matrix # To build sparse feature matrices, if you like\n",
    "import pandas as pd\n",
    "\n",
    "import html\n",
    "import random\n",
    "import json"
   ]
  },
  {
   "cell_type": "code",
   "execution_count": 2,
   "metadata": {},
   "outputs": [],
   "source": [
    "def parse(path):\n",
    "  g = gzip.open(path, 'r')\n",
    "  for l in g:\n",
    "    yield eval(l)"
   ]
  },
  {
   "cell_type": "markdown",
   "metadata": {},
   "source": [
    "This takes a 1.5 mins to run"
   ]
  },
  {
   "cell_type": "code",
   "execution_count": 60,
   "metadata": {},
   "outputs": [],
   "source": [
    "# allRatings = [l for l in parse(\"ratebeer.json.gz\")]\n",
    "rawRatings = [l for l in parse(\"sampled_ratebeer.json.gz\")][0] # sampled has 300,000 reviews"
   ]
  },
  {
   "cell_type": "markdown",
   "metadata": {},
   "source": [
    "# Sample and compress dataset (ALREADY RAN DONT RUN)"
   ]
  },
  {
   "cell_type": "code",
   "execution_count": null,
   "metadata": {},
   "outputs": [],
   "source": [
    "# # Random sample the dataset because it's too big\n",
    "\n",
    "# sampleSize = 300000\n",
    "# sampledAllRatings = random.sample(ratings, sampleSize)"
   ]
  },
  {
   "cell_type": "code",
   "execution_count": null,
   "metadata": {},
   "outputs": [],
   "source": [
    "# import json\n",
    "\n",
    "# with open(\"sampled_ratebeer.json\", \"w\") as f:\n",
    "#     json.dump(sampledAllRatings, f)"
   ]
  },
  {
   "cell_type": "code",
   "execution_count": null,
   "metadata": {},
   "outputs": [
    {
     "name": "stdout",
     "output_type": "stream",
     "text": [
      "Compressed sampled_ratebeer.json to sampled_ratebeer.json.gz\n"
     ]
    }
   ],
   "source": [
    "# import gzip\n",
    "# import shutil\n",
    "\n",
    "# # File paths\n",
    "# input_file = 'sampled_ratebeer.json'      # Your existing JSON file\n",
    "# output_file = 'sampled_ratebeer.json.gz'  # Desired compressed file\n",
    "\n",
    "# # Compress the JSON file\n",
    "# with open(input_file, 'rb') as f_in:\n",
    "#     with gzip.open(output_file, 'wb') as f_out:\n",
    "#         shutil.copyfileobj(f_in, f_out)\n",
    "\n",
    "# print(f\"Compressed {input_file} to {output_file}\")\n"
   ]
  },
  {
   "cell_type": "markdown",
   "metadata": {},
   "source": [
    "# Clean data"
   ]
  },
  {
   "cell_type": "markdown",
   "metadata": {},
   "source": [
    "Check missing labels (beer/style)"
   ]
  },
  {
   "cell_type": "code",
   "execution_count": null,
   "metadata": {},
   "outputs": [],
   "source": [
    "# Removing escape sequences from labels\n",
    "for rating in rawRatings:\n",
    "    if 'beer/style' in rating:\n",
    "        rating['beer/style'] = html.unescape(rating['beer/style'])"
   ]
  },
  {
   "cell_type": "code",
   "execution_count": 62,
   "metadata": {},
   "outputs": [
    {
     "data": {
      "text/plain": [
       "(89, 0)"
      ]
     },
     "execution_count": 62,
     "metadata": {},
     "output_type": "execute_result"
    }
   ],
   "source": [
    "styles = set()\n",
    "no_style = []\n",
    "\n",
    "for rating in rawRatings:\n",
    "    if 'beer/style' in rating:\n",
    "        styles.add(rating['beer/style'])\n",
    "    else:\n",
    "        no_style.append(rating)\n",
    "\n",
    "len(styles), len(no_style)"
   ]
  },
  {
   "cell_type": "code",
   "execution_count": 63,
   "metadata": {},
   "outputs": [],
   "source": [
    "allKeys = set(rawRatings[0].keys())"
   ]
  },
  {
   "cell_type": "markdown",
   "metadata": {},
   "source": [
    "Check missing features"
   ]
  },
  {
   "cell_type": "code",
   "execution_count": 76,
   "metadata": {},
   "outputs": [],
   "source": [
    "def checkMissingFeatures(rating):\n",
    "    return (\n",
    "        rating['beer/name'] == \"\" or \n",
    "        rating['beer/ABV'] == \"\" or rating['beer/ABV'] == \"-\" or  # the - case is for some reason in our data\n",
    "        rating['review/text'] == \"\"\n",
    "    )\n",
    "    \n",
    "cleanedRatings = []\n",
    "\n",
    "for rating in rawRatings:\n",
    "    if not checkMissingFeatures(rating):\n",
    "        cleanedRatings.append(rating)"
   ]
  },
  {
   "cell_type": "markdown",
   "metadata": {},
   "source": [
    "# Get features\n",
    "We get only the features we want to use ('beer/name', 'beer/ABV', 'review/text')"
   ]
  },
  {
   "cell_type": "code",
   "execution_count": 84,
   "metadata": {},
   "outputs": [],
   "source": [
    "# Only contains features we will use\n",
    "filteredRatings = []\n",
    "\n",
    "for rating in cleanedRatings:\n",
    "    featureDict = {\n",
    "        'beer/name': rating['beer/name'],\n",
    "        'beer/ABV':  rating['beer/ABV'],\n",
    "        'review/text': rating['review/text'],\n",
    "        'beer/style': rating['beer/style']\n",
    "    }\n",
    "    \n",
    "    filteredRatings.append(featureDict)"
   ]
  },
  {
   "cell_type": "code",
   "execution_count": 85,
   "metadata": {},
   "outputs": [
    {
     "data": {
      "text/plain": [
       "285215"
      ]
     },
     "execution_count": 85,
     "metadata": {},
     "output_type": "execute_result"
    }
   ],
   "source": [
    "len(filteredRatings)"
   ]
  },
  {
   "cell_type": "markdown",
   "metadata": {},
   "source": [
    "## Prepare the features\n",
    "- Remove escape characters from `review/text`\n",
    "- Convert `beer/ABV` to float"
   ]
  },
  {
   "cell_type": "code",
   "execution_count": 86,
   "metadata": {},
   "outputs": [],
   "source": [
    "# https://stackoverflow.com/questions/8115261/how-to-remove-all-the-escape-sequences-from-a-list-of-strings\n",
    "escapeChars = ''.join([chr(char) for char in range(1, 32)])\n",
    "translator = str.maketrans('', '', escapeChars)\n",
    "\n",
    "# Remove escape characters from `review/text`\n",
    "def removeEscapeChars(review: str) -> str:\n",
    "    return review.translate(translator)\n",
    "\n",
    "# Convert `beer/ABV` to float\n",
    "def convertABVFloat(abv: str) -> float:\n",
    "    return float(abv)\n",
    "\n",
    "for rating in filteredRatings: \n",
    "    rating['review/text'] = removeEscapeChars(rating['review/text'])\n",
    "    rating['beer/ABV'] = convertABVFloat(rating['beer/ABV'])"
   ]
  },
  {
   "cell_type": "markdown",
   "metadata": {},
   "source": [
    "# TODO: Do some analysis on our data\n",
    "Ideas\n",
    "- Statistics on length of review/text\n",
    "- Statistics on ABV\n",
    "- Statistics on how many times the name contains the beer style"
   ]
  },
  {
   "cell_type": "code",
   "execution_count": 97,
   "metadata": {},
   "outputs": [],
   "source": [
    "reviewLens = []\n",
    "beerABVs = []\n",
    "nameContainsStyleCount = 0\n",
    "\n",
    "for rating in filteredRatings:\n",
    "    reviewLens.append(len(rating['review/text']))\n",
    "    beerABVs.append(rating['beer/ABV'])\n",
    "    if rating['beer/style'] in rating['beer/name']:\n",
    "        nameContainsStyleCount += 1"
   ]
  },
  {
   "cell_type": "code",
   "execution_count": null,
   "metadata": {},
   "outputs": [
    {
     "data": {
      "text/plain": [
       "(3, 8449, 308.17741353014395, 254.0, 215.11712787742402)"
      ]
     },
     "execution_count": 101,
     "metadata": {},
     "output_type": "execute_result"
    }
   ],
   "source": [
    "import numpy as np\n",
    "\n",
    "def getStats(data: list[int]) -> tuple:\n",
    "    dataMin = min(data)\n",
    "    dataMax = max(data)\n",
    "    dataMean = np.mean(data)\n",
    "    dataMedian = np.median(data)\n",
    "    dataSTD = np.std(data)\n",
    "    \n",
    "    return dataMin, dataMax, dataMean, dataMedian, dataSTD"
   ]
  },
  {
   "cell_type": "code",
   "execution_count": 102,
   "metadata": {},
   "outputs": [
    {
     "data": {
      "text/plain": [
       "(3, 8449, 308.17741353014395, 254.0, 215.11712787742402)"
      ]
     },
     "execution_count": 102,
     "metadata": {},
     "output_type": "execute_result"
    }
   ],
   "source": [
    "reviewLenMin, reviewLenMax, reviewLenMean, reviewLenMedian, reviewLenSTD = getStats(reviewLens)\n",
    "reviewLenMin, reviewLenMax, reviewLenMean, reviewLenMedian, reviewLenSTD"
   ]
  },
  {
   "cell_type": "code",
   "execution_count": 103,
   "metadata": {},
   "outputs": [
    {
     "data": {
      "text/plain": [
       "(0.01, 57.7, 6.645068281822484, 6.0, 2.3217380289064864)"
      ]
     },
     "execution_count": 103,
     "metadata": {},
     "output_type": "execute_result"
    }
   ],
   "source": [
    "abvMin, abvMax, abvMean, abvMedian, abvSTD = getStats(beerABVs)\n",
    "abvMin, abvMax, abvMean, abvMedian, abvSTD"
   ]
  },
  {
   "cell_type": "markdown",
   "metadata": {},
   "source": [
    "# Split dataset"
   ]
  },
  {
   "cell_type": "code",
   "execution_count": 82,
   "metadata": {},
   "outputs": [
    {
     "data": {
      "text/plain": [
       "(270954, 14261)"
      ]
     },
     "execution_count": 82,
     "metadata": {},
     "output_type": "execute_result"
    }
   ],
   "source": [
    "splitIndex = int(len(filteredRatings) * 0.95)\n",
    "ratingsTrain = filteredRatings[:splitIndex]\n",
    "ratingsTest = filteredRatings[splitIndex:]\n",
    "\n",
    "len(ratingsTrain), len(ratingsTest)"
   ]
  },
  {
   "cell_type": "markdown",
   "metadata": {},
   "source": [
    "# Feature encoding"
   ]
  },
  {
   "cell_type": "code",
   "execution_count": null,
   "metadata": {},
   "outputs": [],
   "source": []
  },
  {
   "cell_type": "code",
   "execution_count": null,
   "metadata": {},
   "outputs": [],
   "source": []
  },
  {
   "cell_type": "code",
   "execution_count": null,
   "metadata": {},
   "outputs": [],
   "source": []
  },
  {
   "cell_type": "markdown",
   "metadata": {},
   "source": [
    "# Feature engineering for flavor labels"
   ]
  },
  {
   "cell_type": "markdown",
   "metadata": {},
   "source": [
    "The `beer_mapping.json` file contains mappings for beer types to flavor labels generated by ChatGPT to group beers into flavors. A beer can be in multiple flavors."
   ]
  },
  {
   "cell_type": "code",
   "execution_count": null,
   "metadata": {},
   "outputs": [
    {
     "data": {
      "text/plain": [
       "dict_keys(['crisp', 'malty', 'hoppy', 'roasty', 'fruity/spicy', 'sour', 'smoky', 'specialty', 'rich/hearty'])"
      ]
     },
     "metadata": {},
     "output_type": "display_data"
    }
   ],
   "source": [
    "import json\n",
    "\n",
    "with open('beer_mapping.json') as f:\n",
    "    beerFlavorMapping = json.load(f)\n",
    "\n",
    "beerFlavorMapping.keys()"
   ]
  }
 ],
 "metadata": {
  "kernelspec": {
   "display_name": "Python 3",
   "language": "python",
   "name": "python3"
  },
  "language_info": {
   "codemirror_mode": {
    "name": "ipython",
    "version": 3
   },
   "file_extension": ".py",
   "mimetype": "text/x-python",
   "name": "python",
   "nbconvert_exporter": "python",
   "pygments_lexer": "ipython3",
   "version": "3.11.0"
  }
 },
 "nbformat": 4,
 "nbformat_minor": 2
}
